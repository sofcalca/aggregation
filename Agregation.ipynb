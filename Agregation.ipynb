{
 "cells": [
  {
   "cell_type": "code",
   "execution_count": 1,
   "metadata": {
    "collapsed": true
   },
   "outputs": [],
   "source": [
    "import numpy as np"
   ]
  },
  {
   "cell_type": "code",
   "execution_count": 3,
   "metadata": {
    "collapsed": true
   },
   "outputs": [],
   "source": [
    "m=10000\n",
    "n=100\n",
    "r=20"
   ]
  },
  {
   "cell_type": "code",
   "execution_count": 4,
   "metadata": {
    "collapsed": false
   },
   "outputs": [
    {
     "data": {
      "text/plain": [
       "6"
      ]
     },
     "execution_count": 4,
     "metadata": {},
     "output_type": "execute_result"
    }
   ],
   "source": [
    "sum([k for k in [1,2,3]])"
   ]
  },
  {
   "cell_type": "code",
   "execution_count": 10,
   "metadata": {
    "collapsed": false
   },
   "outputs": [],
   "source": [
    "X=np.zeros((m,n))\n",
    "cols_to_fill=np.random.choice(n,r,replace=False)\n",
    "for k in cols_to_fill:\n",
    "    X[:,k]=np.random.normal(0,1,m)\n",
    "for k in (set(range(n))-set(cols_to_fill)):\n",
    "    rand_coefs = np.random.normal(0,1,r)\n",
    "    X[:,k]=sum([X[:,cols_to_fill[i]]*rand_coefs[i] for i in range(r)])"
   ]
  },
  {
   "cell_type": "code",
   "execution_count": 11,
   "metadata": {
    "collapsed": false
   },
   "outputs": [
    {
     "data": {
      "text/plain": [
       "array([[ -0.46210068,   6.02117434,  -1.30241113, ...,   0.78249921,\n",
       "          5.86858458,  -1.86978106],\n",
       "       [ -6.98536864,   0.49293621,   1.88914157, ...,   6.70638065,\n",
       "          1.42429196, -10.61470513],\n",
       "       [ -6.19409715,  -5.34595564,  -2.58385552, ...,   3.7891731 ,\n",
       "          2.84720329,  -0.92049966],\n",
       "       ..., \n",
       "       [ -7.08665718,   1.54696091,   6.91055527, ...,   2.19960477,\n",
       "          0.66525304,  -2.95885461],\n",
       "       [  4.15322233,   3.93371812,   3.29988766, ...,   2.48136912,\n",
       "          1.02031053,   4.21482651],\n",
       "       [ -4.97845971,   0.29904055,  -1.67195789, ...,   5.48045671,\n",
       "         -7.03313942,  -6.46786997]])"
      ]
     },
     "execution_count": 11,
     "metadata": {},
     "output_type": "execute_result"
    }
   ],
   "source": [
    "X"
   ]
  },
  {
   "cell_type": "code",
   "execution_count": 14,
   "metadata": {
    "collapsed": true
   },
   "outputs": [],
   "source": [
    "p=0.3\n",
    "n_known_coefs=int(p*m*n)\n",
    "pick_coefs=np.random.choice(m*n, n_known_coefs, replace=False)\n",
    "known_coefs = [(i%m, i/m) for i in pick_coefs]"
   ]
  },
  {
   "cell_type": "code",
   "execution_count": 15,
   "metadata": {
    "collapsed": true
   },
   "outputs": [],
   "source": [
    "#Initialisation\n",
    "#Les matrices et paramètres\n",
    "A=np.zeros((m,r))\n",
    "B=np.zeros((n,r))\n",
    "gamma=np.random.normal(0,1,r)\n",
    "beta=.1"
   ]
  },
  {
   "cell_type": "code",
   "execution_count": null,
   "metadata": {
    "collapsed": true
   },
   "outputs": [],
   "source": [
    "#Initialisation de Sigma\n",
    "Sigma_A = [np.linalg.inv(np.diag(gamma[i])) for i in range(r)]\n",
    "for i in range(m):\n",
    "    mean = \n",
    "    A[i] = np.random.multivariate_normal"
   ]
  }
 ],
 "metadata": {
  "kernelspec": {
   "display_name": "Python 2",
   "language": "python",
   "name": "python2"
  },
  "language_info": {
   "codemirror_mode": {
    "name": "ipython",
    "version": 2
   },
   "file_extension": ".py",
   "mimetype": "text/x-python",
   "name": "python",
   "nbconvert_exporter": "python",
   "pygments_lexer": "ipython2",
   "version": "2.7.11"
  }
 },
 "nbformat": 4,
 "nbformat_minor": 0
}
