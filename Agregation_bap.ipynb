{
 "cells": [
  {
   "cell_type": "code",
   "execution_count": 2,
   "metadata": {
    "collapsed": true
   },
   "outputs": [],
   "source": [
    "import numpy as np"
   ]
  },
  {
   "cell_type": "code",
   "execution_count": 3,
   "metadata": {
    "collapsed": true
   },
   "outputs": [],
   "source": [
    "m=10000\n",
    "n=100\n",
    "r=20\n",
    "#epsilon iid suivant une N(0,1) (sigma = 1 => beta = 1)\n",
    "beta = 1\n",
    "# On fixe a et b arbitrairement comme dit sur le paper :\n",
    "prior_gamma_params={\"alpha\":1, \"beta\": 1}"
   ]
  },
  {
   "cell_type": "code",
   "execution_count": 6,
   "metadata": {
    "collapsed": false
   },
   "outputs": [],
   "source": [
    "A_gen = np.random.normal(loc=0,scale=1,size=(m, r))\n",
    "B_gen = np.random.normal(loc=0,scale=1,size=(n, r))\n",
    "X_gen = A_gen.dot(B_gen.T)\n",
    "Gamma = np.diag(np.random.gamma(prior_gamma_params[\"alpha\"], prior_gamma_params[\"beta\"], r))"
   ]
  },
  {
   "cell_type": "code",
   "execution_count": 7,
   "metadata": {
    "collapsed": true
   },
   "outputs": [],
   "source": [
    "def get_gamma_param(it, A, B, a, b, m_a, m_b, col_num):\n",
    "    m=A.shape[0]\n",
    "    n=B.shape[0]\n",
    "    m_a= (it*m_a + A[:,col_num].T.dot(A[:,col_num]))/float(it+1)\n",
    "    m_b= (it*m_b + B[:,col_num].T.dot(B[:,col_num]))/float(it+1)\n",
    "    alpha = a+(m+n)/2.*r\n",
    "    beta = (2*b + m_a + m_b)/2\n",
    "    return alpha, beta"
   ]
  },
  {
   "cell_type": "code",
   "execution_count": null,
   "metadata": {
    "collapsed": true
   },
   "outputs": [],
   "source": [
    "#initialiser les moyennes par les valeurs initiales\n",
    "B_mean = B \n",
    "BTB_mean = B.T.dot(B)\n",
    "a_m_line = []"
   ]
  },
  {
   "cell_type": "code",
   "execution_count": null,
   "metadata": {
    "collapsed": false
   },
   "outputs": [],
   "source": [
    "max_step = 100\n",
    "for step in range(max_step):\n",
    "    for i in range(m):\n",
    "        Sigma_a = np.linalg.inv((B.T).dot(B)+ Gamma)\n",
    "        mean_a_line = beta* Sigma_a.dot(B.T).dot(X_gen[i,:].T)\n",
    "        A[i,:] = np.random.multivariate_normal(mean_a_line,Sigma_a)\n",
    "    \n",
    "    for j in range(n):\n",
    "        Sigma_b = beta*np.linalg.inv((A.T).dot(A)+ Gamma)\n",
    "        mean_b_line = beta* Sigma_b.dot(A.T).dot(X_gen[:,j].T)\n",
    "        B[j,:] = np.random.multivariate_normal(mean_b_line,Sigma_b)\n",
    "    for k in range(r):\n",
    "        alpha, beta = get_gamma_param(\n",
    "            step, A, B, prior_gamma_params[\"alpha\"], prior_gamma_params[\"beta\"] m_a, m_b, col_num)\n",
    "        Gamma[k,k] = np.random.gamma(alpha, beta)\n",
    "        \n",
    "    "
   ]
  },
  {
   "cell_type": "code",
   "execution_count": null,
   "metadata": {
    "collapsed": false
   },
   "outputs": [],
   "source": [
    "np.linalg.norm(A.dot(B.T)-X_gen)"
   ]
  },
  {
   "cell_type": "code",
   "execution_count": 48,
   "metadata": {
    "collapsed": false
   },
   "outputs": [
    {
     "data": {
      "text/plain": [
       "((20,), (20, 20))"
      ]
     },
     "execution_count": 48,
     "metadata": {},
     "output_type": "execute_result"
    }
   ],
   "source": [
    "mean_a_line.shape, Sigma_a.shape"
   ]
  },
  {
   "cell_type": "code",
   "execution_count": 42,
   "metadata": {
    "collapsed": false
   },
   "outputs": [
    {
     "data": {
      "text/plain": [
       "0.0"
      ]
     },
     "execution_count": 42,
     "metadata": {},
     "output_type": "execute_result"
    }
   ],
   "source": [
    "np.min(Sigma_a)"
   ]
  },
  {
   "cell_type": "code",
   "execution_count": 26,
   "metadata": {
    "collapsed": false
   },
   "outputs": [
    {
     "data": {
      "text/plain": [
       "array([ 0.,  0.,  0., ...,  0.,  0.,  0.])"
      ]
     },
     "execution_count": 26,
     "metadata": {},
     "output_type": "execute_result"
    }
   ],
   "source": [
    "mean_a_line[i] = V"
   ]
  },
  {
   "cell_type": "code",
   "execution_count": 4,
   "metadata": {
    "collapsed": false
   },
   "outputs": [],
   "source": [
    "X=np.zeros((m,n))\n",
    "cols_to_fill=np.random.choice(n,r,replace=False)\n",
    "for k in cols_to_fill:\n",
    "    X[:,k]=np.random.normal(0,1,m)\n",
    "for k in (set(range(n))-set(cols_to_fill)):\n",
    "    rand_coefs = np.random.normal(0,1,r)\n",
    "    X[:,k]=sum([X[:,cols_to_fill[i]]*rand_coefs[i] for i in range(r)])"
   ]
  },
  {
   "cell_type": "code",
   "execution_count": 5,
   "metadata": {
    "collapsed": false
   },
   "outputs": [
    {
     "data": {
      "text/plain": [
       "array([[  0.92284887,  -2.47007301,  -2.10590224, ...,  -1.58812097,\n",
       "          3.05882318,  -0.30392471],\n",
       "       [  5.12940119,  -0.44404491,  -3.0105268 , ...,   0.23829583,\n",
       "          1.24466971,  -2.93559611],\n",
       "       [ -2.97957144,   0.53661026,  -1.47360067, ...,   1.66889876,\n",
       "          0.13199076,  -2.01840337],\n",
       "       ..., \n",
       "       [ -6.65860565,   2.94412603,  -0.92336414, ...,  -1.41649424,\n",
       "         -2.74000717,   1.95974028],\n",
       "       [  3.89330264,   0.84279169,   1.09092452, ...,  -0.72211154,\n",
       "          5.96339864,  -2.33928196],\n",
       "       [  6.2822498 ,   2.42412484,   4.94979749, ...,  -0.3605845 ,\n",
       "         -2.21448133,  10.24788361]])"
      ]
     },
     "execution_count": 5,
     "metadata": {},
     "output_type": "execute_result"
    }
   ],
   "source": [
    "mean_a"
   ]
  },
  {
   "cell_type": "code",
   "execution_count": 6,
   "metadata": {
    "collapsed": true
   },
   "outputs": [],
   "source": [
    "p=0.3\n",
    "n_known_coefs=int(p*m*n)\n",
    "pick_coefs=np.random.choice(m*n, n_known_coefs, replace=False)\n",
    "known_coefs = [(i%m, i/m) for i in pick_coefs]"
   ]
  },
  {
   "cell_type": "code",
   "execution_count": 7,
   "metadata": {
    "collapsed": true
   },
   "outputs": [],
   "source": [
    "#Initialisation\n",
    "#Les matrices et paramètres\n",
    "A=np.zeros((m,r))\n",
    "B=np.zeros((n,r))\n",
    "gamma=np.random.normal(0,1,r)\n",
    "beta=.1"
   ]
  },
  {
   "cell_type": "code",
   "execution_count": 8,
   "metadata": {
    "collapsed": false
   },
   "outputs": [
    {
     "ename": "SyntaxError",
     "evalue": "invalid syntax (<ipython-input-8-e1a37ca03106>, line 4)",
     "output_type": "error",
     "traceback": [
      "\u001b[1;36m  File \u001b[1;32m\"<ipython-input-8-e1a37ca03106>\"\u001b[1;36m, line \u001b[1;32m4\u001b[0m\n\u001b[1;33m    mean =\u001b[0m\n\u001b[1;37m           ^\u001b[0m\n\u001b[1;31mSyntaxError\u001b[0m\u001b[1;31m:\u001b[0m invalid syntax\n"
     ]
    }
   ],
   "source": [
    "#Initialisation de Sigma\n",
    "Sigma_A = [np.linalg.inv(np.diag(gamma[i])) for i in range(r)]\n",
    "for i in range(m):\n",
    "    mean = \n",
    "    A[i] = np.random.multivariate_normal"
   ]
  },
  {
   "cell_type": "code",
   "execution_count": null,
   "metadata": {
    "collapsed": true
   },
   "outputs": [],
   "source": []
  }
 ],
 "metadata": {
  "kernelspec": {
   "display_name": "Python 2",
   "language": "python",
   "name": "python2"
  },
  "language_info": {
   "codemirror_mode": {
    "name": "ipython",
    "version": 2
   },
   "file_extension": ".py",
   "mimetype": "text/x-python",
   "name": "python",
   "nbconvert_exporter": "python",
   "pygments_lexer": "ipython2",
   "version": "2.7.11"
  }
 },
 "nbformat": 4,
 "nbformat_minor": 0
}
