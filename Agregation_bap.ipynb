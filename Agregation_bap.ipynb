{
 "cells": [
  {
   "cell_type": "code",
   "execution_count": 1,
   "metadata": {
    "collapsed": true
   },
   "outputs": [],
   "source": [
    "import numpy as np"
   ]
  },
  {
   "cell_type": "code",
   "execution_count": 42,
   "metadata": {
    "collapsed": true
   },
   "outputs": [],
   "source": [
    "m=100\n",
    "n=100\n",
    "r=20\n",
    "#epsilon iid suivant une N(0,1) (sigma = 1 => beta = 1)\n",
    "#beta = 1\n",
    "# On fixe a et b arbitrairement comme dit sur le paper :\n",
    "prior_gamma_params={\"alpha\":1, \"beta\": 1} #initialiser comme dans paper"
   ]
  },
  {
   "cell_type": "code",
   "execution_count": 43,
   "metadata": {
    "collapsed": false
   },
   "outputs": [],
   "source": [
    "A_truth = np.random.normal(loc=0,scale=10,size=(m, r))\n",
    "B_truth = np.random.normal(loc=0,scale=10,size=(n, r))\n",
    "noise = np.random.normal(loc=0,scale=1,size=(m,n))"
   ]
  },
  {
   "cell_type": "code",
   "execution_count": 44,
   "metadata": {
    "collapsed": true
   },
   "outputs": [],
   "source": [
    "X_truth = A_truth.dot(B_truth.T)"
   ]
  },
  {
   "cell_type": "code",
   "execution_count": 45,
   "metadata": {
    "collapsed": false
   },
   "outputs": [],
   "source": [
    "X_noise = X_truth + noise"
   ]
  },
  {
   "cell_type": "code",
   "execution_count": 46,
   "metadata": {
    "collapsed": false
   },
   "outputs": [
    {
     "data": {
      "text/plain": [
       "20"
      ]
     },
     "execution_count": 46,
     "metadata": {},
     "output_type": "execute_result"
    }
   ],
   "source": [
    "np.linalg.matrix_rank(X_truth)"
   ]
  },
  {
   "cell_type": "markdown",
   "metadata": {},
   "source": [
    "La matrice est bien de rang 20"
   ]
  },
  {
   "cell_type": "code",
   "execution_count": 47,
   "metadata": {
    "collapsed": true
   },
   "outputs": [],
   "source": [
    "def get_gamma_param(A, B, a, b, A_mean, B_mean, Sigma_a, Sigma_b, col_num):\n",
    "    m=A.shape[0]\n",
    "    n=B.shape[0]\n",
    "    m_a= A_mean[:,col_num].T.dot(A_mean[:,col_num]) + m* Sigma_a[col_num,col_num]\n",
    "    m_b= B_mean[:,col_num].T.dot(B_mean[:,col_num]) + m* Sigma_b[col_num,col_num]\n",
    "    alpha = a+(m+n)/2.*r\n",
    "    beta = (2*b + m_a + m_b)/2\n",
    "    return alpha, beta"
   ]
  },
  {
   "cell_type": "code",
   "execution_count": 48,
   "metadata": {
    "collapsed": false
   },
   "outputs": [],
   "source": [
    "#initialiser A et B\n",
    "A = np.random.normal(loc=0,scale=1,size=(m, r))\n",
    "B = np.random.normal(loc=0,scale=1,size=(n, r))\n",
    "Gamma = np.diag(np.array([1./x for x in np.random.gamma(prior_gamma_params[\"alpha\"], prior_gamma_params[\"beta\"], r)]))\n",
    "#initialiser les moyennes par les valeurs initiales\n",
    "B_mean = B \n",
    "A_mean = A\n",
    "#initialiser Sigma_b comme l'identité :\n",
    "Sigma_b = np.identity(r)"
   ]
  },
  {
   "cell_type": "code",
   "execution_count": 49,
   "metadata": {
    "collapsed": false
   },
   "outputs": [
    {
     "name": "stdout",
     "output_type": "stream",
     "text": [
      "Automatic pdb calling has been turned OFF\n"
     ]
    }
   ],
   "source": [
    "%pdb"
   ]
  },
  {
   "cell_type": "code",
   "execution_count": 50,
   "metadata": {
    "collapsed": false
   },
   "outputs": [
    {
     "data": {
      "text/plain": [
       "array([ 45125.37457939,     78.88999604,  45125.37457939,     78.88999604,\n",
       "        45125.37457939,     78.88999604,  45125.37457939,     78.88999604,\n",
       "        45125.37457939,     78.88999604])"
      ]
     },
     "execution_count": 50,
     "metadata": {},
     "output_type": "execute_result"
    }
   ],
   "source": [
    "err_noisy"
   ]
  },
  {
   "cell_type": "code",
   "execution_count": 51,
   "metadata": {
    "collapsed": false
   },
   "outputs": [
    {
     "name": "stdout",
     "output_type": "stream",
     "text": [
      "itération nº 0\n",
      "--------------------\n",
      "Erreurs :\n",
      "Par rapport à la matrice d'origine :  43299.886537\n",
      "Par rapport à la matrice bruitée :  43299.7467707\n",
      "itération nº 1\n",
      "--------------------\n",
      "Erreurs :\n",
      "Par rapport à la matrice d'origine :  307.824727749\n",
      "Par rapport à la matrice bruitée :  311.521504679\n",
      "itération nº 2\n",
      "--------------------\n",
      "Erreurs :\n",
      "Par rapport à la matrice d'origine :  390.414775385\n",
      "Par rapport à la matrice bruitée :  393.010210945\n",
      "itération nº 3\n",
      "--------------------\n",
      "Erreurs :\n",
      "Par rapport à la matrice d'origine :  218.278917827\n",
      "Par rapport à la matrice bruitée :  223.717675467\n",
      "itération nº 4\n",
      "--------------------\n",
      "Erreurs :\n",
      "Par rapport à la matrice d'origine :  180.627006123\n",
      "Par rapport à la matrice bruitée :  187.37541587\n",
      "itération nº 5\n",
      "--------------------\n",
      "Erreurs :\n",
      "Par rapport à la matrice d'origine :  160.012084911\n",
      "Par rapport à la matrice bruitée :  167.716173624\n",
      "itération nº 6\n",
      "--------------------\n",
      "Erreurs :\n",
      "Par rapport à la matrice d'origine :  147.516439628\n",
      "Par rapport à la matrice bruitée :  155.930628078\n",
      "itération nº 7\n",
      "--------------------\n",
      "Erreurs :\n",
      "Par rapport à la matrice d'origine :  136.119496173\n",
      "Par rapport à la matrice bruitée :  145.269853107\n",
      "itération nº 8\n",
      "--------------------\n",
      "Erreurs :\n",
      "Par rapport à la matrice d'origine :  128.477058742\n",
      "Par rapport à la matrice bruitée :  138.172570817\n",
      "itération nº 9\n",
      "--------------------\n",
      "Erreurs :\n",
      "Par rapport à la matrice d'origine :  121.952024884\n",
      "Par rapport à la matrice bruitée :  132.201818961\n",
      "step 10 : 116.022184865\n"
     ]
    }
   ],
   "source": [
    "import scipy\n",
    "max_step = 10\n",
    "err_ori = np.zeros(max_step)\n",
    "err_noisy = np.zeros(max_step)\n",
    "for step in range(max_step):\n",
    "    err_ori[step] = np.linalg.norm(A_mean.dot(B_mean.T)-X_truth)\n",
    "    err_noisy[step] = np.linalg.norm(A_mean.dot(B_mean.T)-X_noise)\n",
    "    print \"itération nº\",step\n",
    "    print \"-\"*20\n",
    "    print \"Erreurs :\"\n",
    "    print \"Par rapport à la matrice d'origine : \", err_ori[step]\n",
    "    print \"Par rapport à la matrice bruitée : \", err_noisy[step]\n",
    "    for i in range(m):\n",
    "        #calcul de la variance\n",
    "        Sigma_a = np.linalg.inv((B_mean.T).dot(B_mean)+ Gamma)\n",
    "        mean_a_line = Sigma_a.dot(B_mean.T).dot(X_noise[i,:].T)\n",
    "        A[i,:] = np.random.multivariate_normal(mean_a_line,Sigma_a)\n",
    "        #Mise à jour de la moyenne\n",
    "        A_mean[i] = mean_a_line\n",
    "    \n",
    "    for j in range(n):\n",
    "        Sigma_b = np.linalg.inv((A_mean.T).dot(A_mean)+ Gamma)\n",
    "        mean_b_line = Sigma_b.dot(A_mean.T).dot(X_noise[:,j].T)\n",
    "        B[j,:] = np.random.multivariate_normal(mean_b_line,Sigma_b)\n",
    "        #Mise à jour de la moyenne\n",
    "        B_mean[j] = mean_b_line\n",
    "    for k in range(r):\n",
    "        a, b = get_gamma_param(\n",
    "            A, B, prior_gamma_params[\"alpha\"], prior_gamma_params[\"beta\"],A_mean,B_mean, Sigma_a, Sigma_b, k)\n",
    "        Gamma[k,k] = 1./np.random.gamma(a, 1./b)    \n",
    "\n",
    "print \"step\",step+1,\":\", np.linalg.norm(A_mean.dot(B_mean.T)-X_truth)\n",
    "    "
   ]
  },
  {
   "cell_type": "code",
   "execution_count": 55,
   "metadata": {
    "collapsed": false
   },
   "outputs": [
    {
     "data": {
      "text/plain": [
       "0"
      ]
     },
     "execution_count": 55,
     "metadata": {},
     "output_type": "execute_result"
    }
   ],
   "source": [
    "idx"
   ]
  },
  {
   "cell_type": "code",
   "execution_count": 72,
   "metadata": {
    "collapsed": false,
    "scrolled": true
   },
   "outputs": [
    {
     "name": "stdout",
     "output_type": "stream",
     "text": [
      "----------------------------------------\n",
      "\n",
      "itération nº 0\n",
      "Erreurs :\n",
      "Par rapport à la matrice d'origine :  35627.8470662\n",
      "Par rapport à la matrice bruitée :  35628.1378283\n",
      "--------------------\n",
      "itération nº 10\n",
      "Erreurs :\n",
      "Par rapport à la matrice d'origine :  72.8707851564\n",
      "Par rapport à la matrice bruitée :  69.8034848075\n",
      "--------------------\n",
      "itération nº 20\n",
      "Erreurs :\n",
      "Par rapport à la matrice d'origine :  72.7638670037\n",
      "Par rapport à la matrice bruitée :  69.2797347886\n",
      "--------------------\n",
      "itération nº 30\n",
      "Erreurs :\n",
      "Par rapport à la matrice d'origine :  72.5858621267\n",
      "Par rapport à la matrice bruitée :  69.1232233493\n",
      "--------------------\n",
      "itération nº 40\n",
      "Erreurs :\n",
      "Par rapport à la matrice d'origine :  72.4777895965\n",
      "Par rapport à la matrice bruitée :  69.0565054548\n",
      "--------------------\n",
      "itération nº 50\n",
      "Erreurs :\n",
      "Par rapport à la matrice d'origine :  72.4024770206\n",
      "Par rapport à la matrice bruitée :  69.0230355683\n",
      "--------------------\n",
      "itération nº 60\n",
      "Erreurs :\n",
      "Par rapport à la matrice d'origine :  72.3644596806\n",
      "Par rapport à la matrice bruitée :  69.0034195977\n",
      "--------------------\n",
      "itération nº 70\n",
      "Erreurs :\n",
      "Par rapport à la matrice d'origine :  72.3430645565\n",
      "Par rapport à la matrice bruitée :  68.9914869225\n",
      "--------------------\n",
      "itération nº 80\n",
      "Erreurs :\n",
      "Par rapport à la matrice d'origine :  72.3401666275\n",
      "Par rapport à la matrice bruitée :  68.983386656\n",
      "--------------------\n",
      "itération nº 90\n",
      "Erreurs :\n",
      "Par rapport à la matrice d'origine :  72.3152102669\n",
      "Par rapport à la matrice bruitée :  68.9785814274\n",
      "--------------------\n",
      "Après  100  itérations, l'erreur est de :  72.3219851786\n",
      "----------------------------------------\n",
      "\n",
      "itération nº 0\n",
      "Erreurs :\n",
      "Par rapport à la matrice d'origine :  18597.6373985\n",
      "Par rapport à la matrice bruitée :  18598.6700174\n",
      "--------------------\n",
      "itération nº 10\n",
      "Erreurs :\n",
      "Par rapport à la matrice d'origine :  76.2040669434\n",
      "Par rapport à la matrice bruitée :  116.353171795\n",
      "--------------------\n",
      "itération nº 20\n",
      "Erreurs :\n",
      "Par rapport à la matrice d'origine :  193.51102581\n",
      "Par rapport à la matrice bruitée :  207.658212995\n",
      "--------------------\n",
      "itération nº 30\n",
      "Erreurs :\n",
      "Par rapport à la matrice d'origine :  72.8394599541\n",
      "Par rapport à la matrice bruitée :  98.5605918622\n",
      "--------------------\n",
      "itération nº 40\n",
      "Erreurs :\n",
      "Par rapport à la matrice d'origine :  53.9821356304\n",
      "Par rapport à la matrice bruitée :  75.2053333434\n",
      "--------------------\n",
      "itération nº 50\n",
      "Erreurs :\n",
      "Par rapport à la matrice d'origine :  56.9205345064\n",
      "Par rapport à la matrice bruitée :  73.729275714\n",
      "--------------------\n",
      "itération nº 60\n",
      "Erreurs :\n",
      "Par rapport à la matrice d'origine :  59.0443292598\n",
      "Par rapport à la matrice bruitée :  73.0855166367\n",
      "--------------------\n",
      "itération nº 70\n",
      "Erreurs :\n",
      "Par rapport à la matrice d'origine :  60.2131197915\n",
      "Par rapport à la matrice bruitée :  72.7121724646\n",
      "--------------------\n",
      "itération nº 80\n",
      "Erreurs :\n",
      "Par rapport à la matrice d'origine :  61.5468616404\n",
      "Par rapport à la matrice bruitée :  72.7836796145\n",
      "--------------------\n",
      "itération nº 90\n",
      "Erreurs :\n",
      "Par rapport à la matrice d'origine :  64.1719147607\n",
      "Par rapport à la matrice bruitée :  74.6482668825\n",
      "--------------------\n",
      "Après  100  itérations, l'erreur est de :  63.162625283\n",
      "----------------------------------------\n",
      "\n",
      "itération nº 0\n",
      "Erreurs :\n",
      "Par rapport à la matrice d'origine :  21422.2885181\n",
      "Par rapport à la matrice bruitée :  21421.9217666\n",
      "--------------------\n",
      "itération nº 10\n",
      "Erreurs :\n",
      "Par rapport à la matrice d'origine :  116.608118603\n",
      "Par rapport à la matrice bruitée :  137.902087889\n",
      "--------------------\n",
      "itération nº 20\n",
      "Erreurs :\n",
      "Par rapport à la matrice d'origine :  70.4664037605\n",
      "Par rapport à la matrice bruitée :  104.469031858\n",
      "--------------------\n",
      "itération nº 30\n",
      "Erreurs :\n",
      "Par rapport à la matrice d'origine :  76.8118801903\n",
      "Par rapport à la matrice bruitée :  104.241558739\n",
      "--------------------\n",
      "itération nº 40\n",
      "Erreurs :\n",
      "Par rapport à la matrice d'origine :  94.5850644714\n",
      "Par rapport à la matrice bruitée :  119.013212646\n",
      "--------------------\n",
      "itération nº 50\n",
      "Erreurs :\n",
      "Par rapport à la matrice d'origine :  1811.98990506\n",
      "Par rapport à la matrice bruitée :  1815.42855773\n",
      "--------------------\n",
      "itération nº 60\n",
      "Erreurs :\n",
      "Par rapport à la matrice d'origine :  1082.68426798\n",
      "Par rapport à la matrice bruitée :  1086.68655223\n",
      "--------------------\n",
      "itération nº 70\n",
      "Erreurs :\n",
      "Par rapport à la matrice d'origine :  242.808766158\n",
      "Par rapport à la matrice bruitée :  253.491899351\n",
      "--------------------\n",
      "itération nº 80\n",
      "Erreurs :\n",
      "Par rapport à la matrice d'origine :  689.409645693\n",
      "Par rapport à la matrice bruitée :  693.537079481\n",
      "--------------------\n",
      "itération nº 90\n",
      "Erreurs :\n",
      "Par rapport à la matrice d'origine :  83.3040090026\n",
      "Par rapport à la matrice bruitée :  103.173449272\n",
      "--------------------\n",
      "Après  100  itérations, l'erreur est de :  73.6218779146\n",
      "----------------------------------------\n",
      "\n",
      "itération nº 0\n",
      "Erreurs :\n",
      "Par rapport à la matrice d'origine :  21874.5948466\n",
      "Par rapport à la matrice bruitée :  21873.7965949\n",
      "--------------------\n",
      "itération nº 10\n",
      "Erreurs :\n",
      "Par rapport à la matrice d'origine :  107.230744022\n",
      "Par rapport à la matrice bruitée :  126.940874565\n",
      "--------------------\n",
      "itération nº 20\n",
      "Erreurs :\n",
      "Par rapport à la matrice d'origine :  140.414270293\n",
      "Par rapport à la matrice bruitée :  155.430348744\n",
      "--------------------\n",
      "itération nº 30\n",
      "Erreurs :\n",
      "Par rapport à la matrice d'origine :  70.4726195286\n",
      "Par rapport à la matrice bruitée :  93.195967864\n",
      "--------------------\n",
      "itération nº 40\n",
      "Erreurs :\n",
      "Par rapport à la matrice d'origine :  65.2829690742\n",
      "Par rapport à la matrice bruitée :  86.6601706931\n",
      "--------------------\n",
      "itération nº 50\n",
      "Erreurs :\n",
      "Par rapport à la matrice d'origine :  64.282165185\n",
      "Par rapport à la matrice bruitée :  84.4847092456\n",
      "--------------------\n",
      "itération nº 60\n",
      "Erreurs :\n",
      "Par rapport à la matrice d'origine :  63.645859898\n",
      "Par rapport à la matrice bruitée :  83.036455579\n",
      "--------------------\n",
      "itération nº 70\n",
      "Erreurs :\n",
      "Par rapport à la matrice d'origine :  63.446531926\n",
      "Par rapport à la matrice bruitée :  82.3229156564\n",
      "--------------------\n",
      "itération nº 80\n",
      "Erreurs :\n",
      "Par rapport à la matrice d'origine :  63.3404847759\n",
      "Par rapport à la matrice bruitée :  81.6574292875\n",
      "--------------------\n",
      "itération nº 90\n",
      "Erreurs :\n",
      "Par rapport à la matrice d'origine :  63.3874801079\n",
      "Par rapport à la matrice bruitée :  81.1789731087\n",
      "--------------------\n",
      "Après  100  itérations, l'erreur est de :  63.2672161704\n",
      "----------------------------------------\n",
      "\n",
      "itération nº 0\n",
      "Erreurs :\n",
      "Par rapport à la matrice d'origine :  21965.4919331\n",
      "Par rapport à la matrice bruitée :  21965.2216753\n",
      "--------------------\n",
      "itération nº 10\n",
      "Erreurs :\n",
      "Par rapport à la matrice d'origine :  69.35119677\n",
      "Par rapport à la matrice bruitée :  87.8207247818\n",
      "--------------------\n",
      "itération nº 20\n",
      "Erreurs :\n",
      "Par rapport à la matrice d'origine :  67.2560694949\n",
      "Par rapport à la matrice bruitée :  86.1032565771\n",
      "--------------------\n",
      "itération nº 30\n",
      "Erreurs :\n",
      "Par rapport à la matrice d'origine :  66.4564973659\n",
      "Par rapport à la matrice bruitée :  85.4564512514\n",
      "--------------------\n",
      "itération nº 40\n",
      "Erreurs :\n",
      "Par rapport à la matrice d'origine :  65.889558174\n",
      "Par rapport à la matrice bruitée :  84.9840915752\n",
      "--------------------\n",
      "itération nº 50\n",
      "Erreurs :\n",
      "Par rapport à la matrice d'origine :  65.4854681558\n",
      "Par rapport à la matrice bruitée :  84.6554891144\n",
      "--------------------\n",
      "itération nº 60\n",
      "Erreurs :\n",
      "Par rapport à la matrice d'origine :  65.1156096185\n",
      "Par rapport à la matrice bruitée :  84.3306861727\n",
      "--------------------\n",
      "itération nº 70\n",
      "Erreurs :\n",
      "Par rapport à la matrice d'origine :  64.841930238\n",
      "Par rapport à la matrice bruitée :  84.1015790846\n",
      "--------------------\n",
      "itération nº 80\n",
      "Erreurs :\n",
      "Par rapport à la matrice d'origine :  64.7111043919\n",
      "Par rapport à la matrice bruitée :  84.0000893732\n",
      "--------------------\n",
      "itération nº 90\n",
      "Erreurs :\n",
      "Par rapport à la matrice d'origine :  64.5729548271\n",
      "Par rapport à la matrice bruitée :  83.8699567004\n",
      "--------------------\n",
      "Après  100  itérations, l'erreur est de :  64.3436758284\n"
     ]
    }
   ],
   "source": [
    "import scipy\n",
    "max_step = 100\n",
    "k_0_list = [1,5,10,15,20]\n",
    "err_ori = [np.zeros(max_step) for k in k_0_list]\n",
    "err_noisy = [np.zeros(max_step) for k in k_0_list]\n",
    "for idx, k_0 in enumerate(k_0_list):\n",
    "    print \"-\"*40\n",
    "    A_k_0 = np.zeros_like(A_truth)\n",
    "    A_k_0[:,:k_0] = A_truth[:,:k_0]\n",
    "    B_k_0 = np.zeros_like(B_truth)\n",
    "    B_k_0[:,:k_0] = B_truth[:,:k_0]\n",
    "    X_k_0 = A_k_0.dot(B_k_0.T)\n",
    "    X_k_0_noise = X_k_0 + noise\n",
    "    print \n",
    "    for step in range(max_step):\n",
    "        err_ori[idx][step] = np.linalg.norm(A_mean.dot(B_mean.T)-X_k_0)\n",
    "        err_noisy[idx][step] = np.linalg.norm(A_mean.dot(B_mean.T)-X_k_0_noise)\n",
    "        if step % 10 == 0:\n",
    "            print \"itération nº\",step\n",
    "            print \"Erreurs :\"\n",
    "            print \"Par rapport à la matrice d'origine : \", err_ori[idx][step]\n",
    "            print \"Par rapport à la matrice bruitée : \", err_noisy[idx][step]\n",
    "            print \"-\"*20\n",
    "        for i in range(m):\n",
    "            #calcul de la variance\n",
    "            Sigma_a = np.linalg.inv((B_mean.T).dot(B_mean)+ Gamma)\n",
    "            mean_a_line = Sigma_a.dot(B_mean.T).dot(X_k_0_noise[i,:].T)\n",
    "            A[i,:] = np.random.multivariate_normal(mean_a_line,Sigma_a)\n",
    "            #Mise à jour de la moyenne\n",
    "            A_mean[i] = mean_a_line\n",
    "\n",
    "        for j in range(n):\n",
    "            Sigma_b = np.linalg.inv((A_mean.T).dot(A_mean)+ Gamma)\n",
    "            mean_b_line = Sigma_b.dot(A_mean.T).dot(X_k_0_noise[:,j].T)\n",
    "            B[j,:] = np.random.multivariate_normal(mean_b_line,Sigma_b)\n",
    "            #Mise à jour de la moyenne\n",
    "            B_mean[j] = mean_b_line\n",
    "        for k in range(r):\n",
    "            a, b= get_gamma_param(\n",
    "                A, B, prior_gamma_params[\"alpha\"], prior_gamma_params[\"beta\"],A_mean,B_mean, Sigma_a, Sigma_b, k)\n",
    "            Gamma[k,k] = 1./np.random.gamma(a, 1./b)    \n",
    "\n",
    "    print \"Après \",step+1,\" itérations, l'erreur est de : \", np.linalg.norm(A_mean.dot(B_mean.T)-X_k_0)\n"
   ]
  },
  {
   "cell_type": "code",
   "execution_count": 73,
   "metadata": {
    "collapsed": true
   },
   "outputs": [],
   "source": [
    "import matplotlib.pyplot as plt\n",
    "%matplotlib inline"
   ]
  },
  {
   "cell_type": "code",
   "execution_count": 74,
   "metadata": {
    "collapsed": false
   },
   "outputs": [
    {
     "data": {
      "text/plain": [
       "<matplotlib.text.Text at 0x11533c210>"
      ]
     },
     "execution_count": 74,
     "metadata": {},
     "output_type": "execute_result"
    },
    {
     "data": {
      "image/png": "[encoded data removed]",
      "text/plain": [
       "<matplotlib.figure.Figure at 0x111e6ce10>"
      ]
     },
     "metadata": {},
     "output_type": "display_data"
    }
   ],
   "source": [
    "plt.figure(figsize=(12,6))\n",
    "for i, k_0 in enumerate(k_0_list):\n",
    "    plt.semilogy(range(1, len(err_ori[i])+1), err_ori[i], label = \"k_0 = {}\".format(k_0))\n",
    "plt.xlim(1,len(err_ori[0])+1)\n",
    "plt.legend()\n",
    "plt.title(\"Comparaison de convergence\")"
   ]
  },
  {
   "cell_type": "code",
   "execution_count": null,
   "metadata": {
    "collapsed": false
   },
   "outputs": [],
   "source": [
    "np.linalg.norm(A.dot(B.T)-X_gen)"
   ]
  },
  {
   "cell_type": "code",
   "execution_count": null,
   "metadata": {
    "collapsed": false
   },
   "outputs": [],
   "source": [
    "mean_a_line.shape, Sigma_a.shape"
   ]
  },
  {
   "cell_type": "code",
   "execution_count": 42,
   "metadata": {
    "collapsed": false
   },
   "outputs": [
    {
     "data": {
      "text/plain": [
       "0.0"
      ]
     },
     "execution_count": 42,
     "metadata": {},
     "output_type": "execute_result"
    }
   ],
   "source": [
    "np.min(Sigma_a)"
   ]
  },
  {
   "cell_type": "code",
   "execution_count": 26,
   "metadata": {
    "collapsed": false
   },
   "outputs": [
    {
     "data": {
      "text/plain": [
       "array([ 0.,  0.,  0., ...,  0.,  0.,  0.])"
      ]
     },
     "execution_count": 26,
     "metadata": {},
     "output_type": "execute_result"
    }
   ],
   "source": [
    "mean_a_line[i] = V"
   ]
  },
  {
   "cell_type": "code",
   "execution_count": 4,
   "metadata": {
    "collapsed": false
   },
   "outputs": [],
   "source": [
    "X=np.zeros((m,n))\n",
    "cols_to_fill=np.random.choice(n,r,replace=False)\n",
    "for k in cols_to_fill:\n",
    "    X[:,k]=np.random.normal(0,1,m)\n",
    "for k in (set(range(n))-set(cols_to_fill)):\n",
    "    rand_coefs = np.random.normal(0,1,r)\n",
    "    X[:,k]=sum([X[:,cols_to_fill[i]]*rand_coefs[i] for i in range(r)])"
   ]
  },
  {
   "cell_type": "code",
   "execution_count": 5,
   "metadata": {
    "collapsed": false
   },
   "outputs": [
    {
     "data": {
      "text/plain": [
       "array([[  0.92284887,  -2.47007301,  -2.10590224, ...,  -1.58812097,\n",
       "          3.05882318,  -0.30392471],\n",
       "       [  5.12940119,  -0.44404491,  -3.0105268 , ...,   0.23829583,\n",
       "          1.24466971,  -2.93559611],\n",
       "       [ -2.97957144,   0.53661026,  -1.47360067, ...,   1.66889876,\n",
       "          0.13199076,  -2.01840337],\n",
       "       ..., \n",
       "       [ -6.65860565,   2.94412603,  -0.92336414, ...,  -1.41649424,\n",
       "         -2.74000717,   1.95974028],\n",
       "       [  3.89330264,   0.84279169,   1.09092452, ...,  -0.72211154,\n",
       "          5.96339864,  -2.33928196],\n",
       "       [  6.2822498 ,   2.42412484,   4.94979749, ...,  -0.3605845 ,\n",
       "         -2.21448133,  10.24788361]])"
      ]
     },
     "execution_count": 5,
     "metadata": {},
     "output_type": "execute_result"
    }
   ],
   "source": [
    "mean_a"
   ]
  },
  {
   "cell_type": "code",
   "execution_count": 6,
   "metadata": {
    "collapsed": true
   },
   "outputs": [],
   "source": [
    "p=0.3\n",
    "n_known_coefs=int(p*m*n)\n",
    "pick_coefs=np.random.choice(m*n, n_known_coefs, replace=False)\n",
    "known_coefs = [(i%m, i/m) for i in pick_coefs]"
   ]
  },
  {
   "cell_type": "code",
   "execution_count": 7,
   "metadata": {
    "collapsed": true
   },
   "outputs": [],
   "source": [
    "#Initialisation\n",
    "#Les matrices et paramètres\n",
    "A=np.zeros((m,r))\n",
    "B=np.zeros((n,r))\n",
    "gamma=np.random.normal(0,1,r)\n",
    "beta=.1"
   ]
  },
  {
   "cell_type": "code",
   "execution_count": 8,
   "metadata": {
    "collapsed": false
   },
   "outputs": [
    {
     "ename": "SyntaxError",
     "evalue": "invalid syntax (<ipython-input-8-e1a37ca03106>, line 4)",
     "output_type": "error",
     "traceback": [
      "\u001b[1;36m  File \u001b[1;32m\"<ipython-input-8-e1a37ca03106>\"\u001b[1;36m, line \u001b[1;32m4\u001b[0m\n\u001b[1;33m    mean =\u001b[0m\n\u001b[1;37m           ^\u001b[0m\n\u001b[1;31mSyntaxError\u001b[0m\u001b[1;31m:\u001b[0m invalid syntax\n"
     ]
    }
   ],
   "source": [
    "#Initialisation de Sigma\n",
    "Sigma_A = [np.linalg.inv(np.diag(gamma[i])) for i in range(r)]\n",
    "for i in range(m):\n",
    "    mean = \n",
    "    A[i] = np.random.multivariate_normal"
   ]
  },
  {
   "cell_type": "code",
   "execution_count": null,
   "metadata": {
    "collapsed": true
   },
   "outputs": [],
   "source": []
  }
 ],
 "metadata": {
  "kernelspec": {
   "display_name": "Python 2",
   "language": "python",
   "name": "python2"
  },
  "language_info": {
   "codemirror_mode": {
    "name": "ipython",
    "version": 2
   },
   "file_extension": ".py",
   "mimetype": "text/x-python",
   "name": "python",
   "nbconvert_exporter": "python",
   "pygments_lexer": "ipython2",
   "version": "2.7.11"
  }
 },
 "nbformat": 4,
 "nbformat_minor": 0
}
