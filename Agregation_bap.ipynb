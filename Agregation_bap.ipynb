{
 "cells": [
  {
   "cell_type": "code",
   "execution_count": 1,
   "metadata": {
    "collapsed": true
   },
   "outputs": [],
   "source": [
    "import numpy as np"
   ]
  },
  {
   "cell_type": "code",
   "execution_count": 2,
   "metadata": {
    "collapsed": true
   },
   "outputs": [],
   "source": [
    "m=10000\n",
    "n=100\n",
    "r=20\n",
    "#epsilon iid suivant une N(0,1) (sigma = 1 => beta = 1)\n",
    "beta = 1\n",
    "# On fixe a et b arbitrairement comme dit sur le paper :\n",
    "prior_gamma_params={\"alpha\":1, \"beta\": 1}"
   ]
  },
  {
   "cell_type": "code",
   "execution_count": 75,
   "metadata": {
    "collapsed": false
   },
   "outputs": [],
   "source": [
    "A_gen = np.random.normal(loc=0,scale=1,size=(m, r))\n",
    "B_gen = np.random.normal(loc=0,scale=1,size=(n, r))\n",
    "X_gen_origin = A_gen.dot(B_gen.T)\n",
    "X_gen = X_gen_origin + np.random.normal(loc=0,scale=0.01,size=(m,n))"
   ]
  },
  {
   "cell_type": "code",
   "execution_count": 76,
   "metadata": {
    "collapsed": true
   },
   "outputs": [],
   "source": [
    "def get_gamma_param(A, B, a, b, A_mean, B_mean, Sigma_a, Sigma_b, col_num):\n",
    "    m=A.shape[0]\n",
    "    n=B.shape[0]\n",
    "    m_a= A_mean[:,col_num].T.dot(A_mean[:,col_num]) + m* Sigma_a[col_num,col_num]\n",
    "    m_b= B_mean[:,col_num].T.dot(B_mean[:,col_num]) + m* Sigma_b[col_num,col_num]\n",
    "    alpha = a+(m+n)/2.*r\n",
    "    beta = (2*b + m_a + m_b)/2\n",
    "    return alpha, beta"
   ]
  },
  {
   "cell_type": "code",
   "execution_count": 77,
   "metadata": {
    "collapsed": false
   },
   "outputs": [],
   "source": [
    "#initialiser A et B\n",
    "A = np.random.normal(loc=0,scale=1,size=(m, r))\n",
    "B = np.random.normal(loc=0,scale=1,size=(n, r))\n",
    "Gamma = np.diag(np.array([1./x for x in np.random.gamma(prior_gamma_params[\"alpha\"], prior_gamma_params[\"beta\"], r)]))\n",
    "#initialiser les moyennes par les valeurs initiales\n",
    "B_mean = B \n",
    "A_mean = A\n",
    "#initialiser Sigma_b comme l'identité :\n",
    "Sigma_b = np.identity(r)\n"
   ]
  },
  {
   "cell_type": "code",
   "execution_count": 78,
   "metadata": {
    "collapsed": false
   },
   "outputs": [
    {
     "name": "stdout",
     "output_type": "stream",
     "text": [
      "step 0 : 6381.62130834\n",
      "6381.63087878\n",
      "step 1 : 861.703264421\n",
      "861.742954915\n",
      "step 2 : 6.0592822585\n",
      "9.82888608754\n",
      "step 3 : 5.94778376562\n",
      "9.76018219143\n",
      "step 4 : 5.92536762754\n",
      "9.74647350264\n",
      "step 5 : 5.90189004861\n",
      "9.73214419065\n",
      "step 6 : 5.8741982329\n",
      "9.71529393144\n",
      "step 7 : 5.85827269655\n",
      "9.70562214903\n",
      "step 8 : 5.82930235861\n",
      "9.6880789935\n",
      "step 9 : 5.80780953149\n",
      "9.67509665758\n",
      "step 10 : 5.78437146541\n",
      "9.66096339985\n",
      "step 11 : 5.76778107573\n",
      "9.65098635352\n",
      "step 12 : 5.75003716797\n",
      "9.64034584612\n",
      "step 13 : 5.72968208062\n",
      "9.62816045573\n",
      "step 14 : 5.70969580497\n",
      "9.61622107333\n",
      "step 15 : 5.68945394616\n",
      "9.60414325822\n",
      "step 16 : 5.67424310174\n",
      "9.59509090991\n",
      "step 17 : 5.65613970931\n",
      "9.58434141579\n",
      "step 18 : 5.63989587906\n",
      "9.57470601959\n",
      "step 19 : 5.617997621\n",
      "9.56174864396\n",
      "step 20 : 5.60349815139\n",
      "9.5531978183\n",
      "step 21 : 5.59214945467\n",
      "9.54651077012\n",
      "step 22 : 5.57188112353\n",
      "9.53457853039\n",
      "step 23 : 5.560031319\n",
      "9.52761398652\n",
      "step 24 : 5.54026725568\n",
      "9.51604234754\n",
      "step 25 : 5.5289372217\n",
      "9.50940673972\n",
      "step 26 : 5.51657532461\n",
      "9.50218223596\n",
      "step 27 : 5.49814798123\n",
      "9.49142147408\n",
      "step 28 : 5.48354004601\n",
      "9.48292372918\n",
      "step 29 : 5.47044890647\n",
      "9.47531593467\n",
      "step 30 : 5.4557972207\n",
      "9.46680832415\n",
      "step 31 : 5.44811550437\n",
      "9.46235292616\n",
      "step 32 : 5.43432822107\n",
      "9.45437608629\n",
      "step 33 : 5.42303762799\n",
      "9.44786370183\n",
      "step 34 : 5.41007104175\n",
      "9.44036561695\n",
      "step 35 : 5.39529628629\n",
      "9.43186148607\n",
      "step 36 : 5.38419005676\n",
      "9.42546810221\n",
      "step 37 : 5.36917521187\n",
      "9.41684587473\n",
      "step 38 : 5.36074965354\n",
      "9.41201725482\n",
      "step 39 : 5.35046969899\n",
      "9.40612644305\n",
      "step 40 : 5.34102497141\n",
      "9.40071811387\n",
      "step 41 : 5.32786262001\n",
      "9.39319699329\n",
      "step 42 : 5.32111358377\n",
      "9.38934542384\n",
      "step 43 : 5.30820664853\n",
      "9.38199216368\n",
      "step 44 : 5.29921789686\n",
      "9.37687347349\n",
      "step 45 : 5.29062879539\n",
      "9.37199029441\n",
      "step 46 : 5.28154672561\n",
      "9.36683066144\n",
      "step 47 : 5.27124344298\n",
      "9.36098345692\n",
      "step 48 : 5.25993795629\n",
      "9.35458522337\n",
      "step 49 : 5.25062074841\n",
      "9.34931456362\n",
      "step 50 : 5.23918508097\n",
      "9.34284310125\n",
      "step 51 : 5.23110085908\n",
      "9.33827975031\n",
      "step 52 : 5.22661885214\n",
      "9.33576096519\n",
      "step 53 : 5.21589284912\n",
      "9.32971864776\n",
      "step 54 : 5.20808424418\n",
      "9.32531689613\n",
      "step 55 : 5.19835313239\n",
      "9.31985227947\n",
      "step 56 : 5.1937181541\n",
      "9.31725448964\n",
      "step 57 : 5.18402184214\n",
      "9.31180521151\n",
      "step 58 : 5.17660430989\n",
      "9.30765015608\n",
      "step 59 : 5.166225348\n",
      "9.30184192703\n",
      "step 60 : 5.16164837797\n",
      "9.29928555636\n",
      "step 61 : 5.155555211\n",
      "9.29587846361\n",
      "step 62 : 5.14583682995\n",
      "9.2904482816\n",
      "step 63 : 5.13727480967\n",
      "9.28567283676\n",
      "step 64 : 5.13179841443\n",
      "9.28262034962\n",
      "step 65 : 5.12475222359\n",
      "9.27869768504\n",
      "step 66 : 5.11928418499\n",
      "9.27565344614\n",
      "step 67 : 5.11361885237\n",
      "9.2725168732\n",
      "step 68 : 5.10626428762\n",
      "9.26842332896\n",
      "step 69 : 5.09939356645\n",
      "9.26460548819\n",
      "step 70 : 5.09150842495\n",
      "9.2602385407\n",
      "step 71 : 5.08763937401\n",
      "9.25809406807\n",
      "step 72 : 5.07895610927\n",
      "9.25328637999\n",
      "step 73 : 5.07415128422\n",
      "9.25062817122\n",
      "step 74 : 5.06800935727\n",
      "9.24723119473\n",
      "step 75 : 5.06277761055\n",
      "9.24434082141\n",
      "step 76 : 5.0576253428\n",
      "9.24150287433\n",
      "step 77 : 5.05031746257\n",
      "9.23747452055\n",
      "step 78 : 5.04555127549\n",
      "9.23485189649\n",
      "step 79 : 5.04027062696\n",
      "9.2319376808\n",
      "step 80 : 5.03419427455\n",
      "9.22859992284\n",
      "step 81 : 5.0295131404\n",
      "9.22601548397\n",
      "step 82 : 5.02423414166\n",
      "9.22312458301\n",
      "step 83 : 5.01933080368\n",
      "9.22042793749\n",
      "step 84 : 5.01263393585\n",
      "9.21675766511\n",
      "step 85 : 5.00820966172\n",
      "9.21432794646\n",
      "step 86 : 5.00458137797\n",
      "9.21234479653\n",
      "step 87 : 4.99948420731\n",
      "9.20955227249\n",
      "step 88 : 4.99381209199\n",
      "9.20644568773\n",
      "step 89 : 4.98935397564\n",
      "9.20399958195\n",
      "step 90 : 4.98483057643\n",
      "9.20153546274\n",
      "step 91 : 4.98125691692\n",
      "9.19958918424\n",
      "step 92 : 4.97544535365\n",
      "9.19640820869\n",
      "step 93 : 4.97135316122\n",
      "9.19417781586\n",
      "step 94 : 4.96650284269\n",
      "9.19153755884\n",
      "step 95 : 4.96316160507\n",
      "9.18970951752\n",
      "step 96 : 4.95854927139\n",
      "9.18720142433\n",
      "step 97 : 4.95406550059\n",
      "9.18475597111\n",
      "step 98 : 4.94982314722\n",
      "9.18244898128\n",
      "step 99 : 4.94615444558\n",
      "9.18045829443\n",
      "step 100 : 4.94149796505\n"
     ]
    }
   ],
   "source": [
    "import scipy\n",
    "max_step = 100\n",
    "for step in range(max_step):\n",
    "    print \"step\",step,\":\", np.linalg.norm(A_mean.dot(B_mean.T)-X_gen_origin)\n",
    "    print np.linalg.norm(A_mean.dot(B_mean.T)-X_gen)\n",
    "    for i in range(m):\n",
    "        #calcul de la variance\n",
    "        Sigma_a = prior_gamma_params[\"beta\"]*np.linalg.inv((B_mean.T).dot(B_mean)+ Gamma)\n",
    "        mean_a_line = prior_gamma_params[\"beta\"]* Sigma_a.dot(B_mean.T).dot(X_gen[i,:].T)\n",
    "        A[i,:] = np.random.multivariate_normal(mean_a_line,Sigma_a)\n",
    "        #Mise à jour de la moyenne\n",
    "        A_mean[i] = mean_a_line\n",
    "    \n",
    "    for j in range(n):\n",
    "        Sigma_b = prior_gamma_params[\"beta\"]*np.linalg.inv((A_mean.T).dot(A_mean)+ Gamma)\n",
    "        mean_b_line = prior_gamma_params[\"beta\"]* Sigma_b.dot(A_mean.T).dot(X_gen[:,j].T)\n",
    "        B[j,:] = np.random.multivariate_normal(mean_b_line,Sigma_b)\n",
    "        #Mise à jour de la moyenne\n",
    "        B_mean[j] = mean_b_line\n",
    "    for k in range(r):\n",
    "        alpha, beta= get_gamma_param(\n",
    "            A, B, prior_gamma_params[\"alpha\"], prior_gamma_params[\"beta\"],A_mean,B_mean, Sigma_a, Sigma_b, k)\n",
    "        Gamma[k,k] = 1./np.random.gamma(alpha, 1./beta)    \n",
    "\n",
    "print \"step\",step+1,\":\", np.linalg.norm(A_mean.dot(B_mean.T)-X_gen_origin)\n",
    "    "
   ]
  },
  {
   "cell_type": "code",
   "execution_count": null,
   "metadata": {
    "collapsed": false
   },
   "outputs": [],
   "source": [
    "np.linalg.norm(A.dot(B.T)-X_gen)"
   ]
  },
  {
   "cell_type": "code",
   "execution_count": null,
   "metadata": {
    "collapsed": false
   },
   "outputs": [],
   "source": [
    "mean_a_line.shape, Sigma_a.shape"
   ]
  },
  {
   "cell_type": "code",
   "execution_count": 42,
   "metadata": {
    "collapsed": false
   },
   "outputs": [
    {
     "data": {
      "text/plain": [
       "0.0"
      ]
     },
     "execution_count": 42,
     "metadata": {},
     "output_type": "execute_result"
    }
   ],
   "source": [
    "np.min(Sigma_a)"
   ]
  },
  {
   "cell_type": "code",
   "execution_count": 26,
   "metadata": {
    "collapsed": false
   },
   "outputs": [
    {
     "data": {
      "text/plain": [
       "array([ 0.,  0.,  0., ...,  0.,  0.,  0.])"
      ]
     },
     "execution_count": 26,
     "metadata": {},
     "output_type": "execute_result"
    }
   ],
   "source": [
    "mean_a_line[i] = V"
   ]
  },
  {
   "cell_type": "code",
   "execution_count": 4,
   "metadata": {
    "collapsed": false
   },
   "outputs": [],
   "source": [
    "X=np.zeros((m,n))\n",
    "cols_to_fill=np.random.choice(n,r,replace=False)\n",
    "for k in cols_to_fill:\n",
    "    X[:,k]=np.random.normal(0,1,m)\n",
    "for k in (set(range(n))-set(cols_to_fill)):\n",
    "    rand_coefs = np.random.normal(0,1,r)\n",
    "    X[:,k]=sum([X[:,cols_to_fill[i]]*rand_coefs[i] for i in range(r)])"
   ]
  },
  {
   "cell_type": "code",
   "execution_count": 5,
   "metadata": {
    "collapsed": false
   },
   "outputs": [
    {
     "data": {
      "text/plain": [
       "array([[  0.92284887,  -2.47007301,  -2.10590224, ...,  -1.58812097,\n",
       "          3.05882318,  -0.30392471],\n",
       "       [  5.12940119,  -0.44404491,  -3.0105268 , ...,   0.23829583,\n",
       "          1.24466971,  -2.93559611],\n",
       "       [ -2.97957144,   0.53661026,  -1.47360067, ...,   1.66889876,\n",
       "          0.13199076,  -2.01840337],\n",
       "       ..., \n",
       "       [ -6.65860565,   2.94412603,  -0.92336414, ...,  -1.41649424,\n",
       "         -2.74000717,   1.95974028],\n",
       "       [  3.89330264,   0.84279169,   1.09092452, ...,  -0.72211154,\n",
       "          5.96339864,  -2.33928196],\n",
       "       [  6.2822498 ,   2.42412484,   4.94979749, ...,  -0.3605845 ,\n",
       "         -2.21448133,  10.24788361]])"
      ]
     },
     "execution_count": 5,
     "metadata": {},
     "output_type": "execute_result"
    }
   ],
   "source": [
    "mean_a"
   ]
  },
  {
   "cell_type": "code",
   "execution_count": 6,
   "metadata": {
    "collapsed": true
   },
   "outputs": [],
   "source": [
    "p=0.3\n",
    "n_known_coefs=int(p*m*n)\n",
    "pick_coefs=np.random.choice(m*n, n_known_coefs, replace=False)\n",
    "known_coefs = [(i%m, i/m) for i in pick_coefs]"
   ]
  },
  {
   "cell_type": "code",
   "execution_count": 7,
   "metadata": {
    "collapsed": true
   },
   "outputs": [],
   "source": [
    "#Initialisation\n",
    "#Les matrices et paramètres\n",
    "A=np.zeros((m,r))\n",
    "B=np.zeros((n,r))\n",
    "gamma=np.random.normal(0,1,r)\n",
    "beta=.1"
   ]
  },
  {
   "cell_type": "code",
   "execution_count": 8,
   "metadata": {
    "collapsed": false
   },
   "outputs": [
    {
     "ename": "SyntaxError",
     "evalue": "invalid syntax (<ipython-input-8-e1a37ca03106>, line 4)",
     "output_type": "error",
     "traceback": [
      "\u001b[1;36m  File \u001b[1;32m\"<ipython-input-8-e1a37ca03106>\"\u001b[1;36m, line \u001b[1;32m4\u001b[0m\n\u001b[1;33m    mean =\u001b[0m\n\u001b[1;37m           ^\u001b[0m\n\u001b[1;31mSyntaxError\u001b[0m\u001b[1;31m:\u001b[0m invalid syntax\n"
     ]
    }
   ],
   "source": [
    "#Initialisation de Sigma\n",
    "Sigma_A = [np.linalg.inv(np.diag(gamma[i])) for i in range(r)]\n",
    "for i in range(m):\n",
    "    mean = \n",
    "    A[i] = np.random.multivariate_normal"
   ]
  },
  {
   "cell_type": "code",
   "execution_count": null,
   "metadata": {
    "collapsed": true
   },
   "outputs": [],
   "source": []
  }
 ],
 "metadata": {
  "kernelspec": {
   "display_name": "Python 2",
   "language": "python",
   "name": "python2"
  },
  "language_info": {
   "codemirror_mode": {
    "name": "ipython",
    "version": 2
   },
   "file_extension": ".py",
   "mimetype": "text/x-python",
   "name": "python",
   "nbconvert_exporter": "python",
   "pygments_lexer": "ipython2",
   "version": "2.7.11"
  }
 },
 "nbformat": 4,
 "nbformat_minor": 0
}
